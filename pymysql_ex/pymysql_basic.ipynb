{
 "cells": [
  {
   "cell_type": "markdown",
   "id": "48efe663",
   "metadata": {},
   "source": [
    "# pymysql 실습"
   ]
  },
  {
   "cell_type": "markdown",
   "id": "cc817eee",
   "metadata": {},
   "source": [
    "- pip install pymysql"
   ]
  },
  {
   "cell_type": "code",
   "execution_count": 1,
   "id": "d7848489",
   "metadata": {},
   "outputs": [],
   "source": [
    "import pymysql"
   ]
  },
  {
   "cell_type": "markdown",
   "id": "6874c32e",
   "metadata": {},
   "source": [
    "# 1. DB 연결\n",
    "- id, pw, host, port, db"
   ]
  },
  {
   "cell_type": "code",
   "execution_count": 4,
   "id": "c370c4f6",
   "metadata": {},
   "outputs": [],
   "source": [
    "# '127.0.0.1 = 'localhost'\n",
    "conn = pymysql.connect(host='localhost', port=3306, user='mj',passwd='1234',db='csm_db', charset='utf8')"
   ]
  },
  {
   "cell_type": "markdown",
   "id": "1671b3bd",
   "metadata": {},
   "source": [
    "\n",
    "# 2. DB cursor 생성"
   ]
  },
  {
   "cell_type": "code",
   "execution_count": 25,
   "id": "d83eb150",
   "metadata": {},
   "outputs": [
    {
     "data": {
      "text/plain": [
       "0"
      ]
     },
     "execution_count": 25,
     "metadata": {},
     "output_type": "execute_result"
    }
   ],
   "source": [
    "# 커서 객체 생성\n",
    "cur = conn.cursor()\n",
    "# items 테이블이 존재하면 삭제\n",
    "cur.execute('drop table if exists items')"
   ]
  },
  {
   "cell_type": "markdown",
   "id": "63226c4f",
   "metadata": {},
   "source": [
    "# sql 명령 실행"
   ]
  },
  {
   "cell_type": "code",
   "execution_count": 26,
   "id": "da2eb9c4",
   "metadata": {},
   "outputs": [],
   "source": [
    "# items 테이블 만들기 : 테이블이 존재하지 않으면 생성\n",
    "create_sql = \"\"\"\n",
    "CREATE TABLE IF NOT EXISTS items(\n",
    "    id integer primary key auto_increment,\n",
    "    code text not null,\n",
    "    name text not null,\n",
    "    price integer null\n",
    ")\n",
    "\"\"\"\n",
    "cur.execute(create_sql);"
   ]
  },
  {
   "cell_type": "markdown",
   "id": "e9185dc0",
   "metadata": {},
   "source": [
    "## 데이터 입력(create)"
   ]
  },
  {
   "cell_type": "code",
   "execution_count": 31,
   "id": "601df2cf",
   "metadata": {},
   "outputs": [
    {
     "data": {
      "text/plain": [
       "1"
      ]
     },
     "execution_count": 31,
     "metadata": {},
     "output_type": "execute_result"
    }
   ],
   "source": [
    "# 레코드 1개 테이블에 추가하기\n",
    "INSERT_SQL = \"\"\"\n",
    "INSERT INTO items(code, name, price) VALUES (%s, %s, %s);\n",
    "\"\"\"\n",
    "cur.execute(INSERT_SQL, ('A0001', '게이밍 키보드', 38000))"
   ]
  },
  {
   "cell_type": "code",
   "execution_count": 32,
   "id": "e270f83e",
   "metadata": {},
   "outputs": [],
   "source": [
    "# 변경사항 저장, 반드시 실행해야만 테이블에 반영됨.\n",
    "#conn.rollback()\n",
    "conn.commit()"
   ]
  },
  {
   "cell_type": "code",
   "execution_count": 36,
   "id": "bf968a78",
   "metadata": {},
   "outputs": [
    {
     "data": {
      "text/plain": [
       "3"
      ]
     },
     "execution_count": 36,
     "metadata": {},
     "output_type": "execute_result"
    }
   ],
   "source": [
    "# 여러개의 레코드를 한꺼번에 추가하기\n",
    "datas = (\n",
    "    ('A0002', '에어컨 30평형', 2000000),\n",
    "    ('A0003', '최신형 스마트폰', 1000000),\n",
    "    ('A0004', '최신형 노트북', 500000)\n",
    ")\n",
    "cur.executemany(INSERT_SQL, datas)"
   ]
  },
  {
   "cell_type": "code",
   "execution_count": 37,
   "id": "97c4f439",
   "metadata": {},
   "outputs": [
    {
     "name": "stdout",
     "output_type": "stream",
     "text": [
      "False\n"
     ]
    }
   ],
   "source": [
    "print(conn.get_autocommit())  # True면 자동커밋 ON\n"
   ]
  },
  {
   "cell_type": "markdown",
   "id": "a2a877b6",
   "metadata": {},
   "source": [
    "## 데이터 읽기 (read)"
   ]
  },
  {
   "cell_type": "code",
   "execution_count": 47,
   "id": "1ce5e7e8",
   "metadata": {},
   "outputs": [
    {
     "name": "stdout",
     "output_type": "stream",
     "text": [
      "1 - ('A0001', '게이밍 키보드', 38000)\n",
      "2 - ('A0002', '에어컨 30평형', 2000000)\n"
     ]
    }
   ],
   "source": [
    "# select 문\n",
    "select_sql1 = 'select * from items;'\n",
    "select_sql2 = 'select * from items limit 2;'\n",
    "cur.execute(select_sql2)\n",
    "\n",
    "# DB 조회한  결과를 확인하기 위해서 fetch 수행\n",
    "rows = cur.fetchall()\n",
    "for idx, row in enumerate(rows):\n",
    "    print(f\"{idx+1} - {row[1:]}\")\n",
    "# print('========')"
   ]
  },
  {
   "cell_type": "code",
   "execution_count": 48,
   "id": "a281b0bf",
   "metadata": {},
   "outputs": [
    {
     "data": {
      "text/plain": [
       "()"
      ]
     },
     "execution_count": 48,
     "metadata": {},
     "output_type": "execute_result"
    }
   ],
   "source": [
    "rows = cur.fetchall()\n",
    "rows\n"
   ]
  },
  {
   "cell_type": "code",
   "execution_count": null,
   "id": "cd1da361",
   "metadata": {},
   "outputs": [
    {
     "data": {
      "text/plain": [
       "()"
      ]
     },
     "execution_count": 49,
     "metadata": {},
     "output_type": "execute_result"
    }
   ],
   "source": [
    "# fetchall 한번 수행하면 데이터는 비워짐,\n",
    "# 위에서 fetchall() 실행했기 때문에 빈결과가 나옴\n",
    "cur.fetchall()"
   ]
  },
  {
   "cell_type": "markdown",
   "id": "9d6ec1fc",
   "metadata": {},
   "source": [
    "## 수정 (Update)"
   ]
  },
  {
   "cell_type": "code",
   "execution_count": 54,
   "id": "51f96d20",
   "metadata": {},
   "outputs": [
    {
     "data": {
      "text/plain": [
       "0"
      ]
     },
     "execution_count": 54,
     "metadata": {},
     "output_type": "execute_result"
    }
   ],
   "source": [
    "# UPDATE문(U)\n",
    "update_sql = \"\"\"\n",
    "UPDATE items\n",
    "SET price = %s\n",
    "WHERE code = %s\n",
    "\"\"\"\n",
    "price = 1500000\n",
    "code = 'A0001'\n",
    "cur.execute(update_sql, (price, code))\n",
    "# cur.execute(\"UPDATE items set price = %s WHERE code=%s;\", (price, code))"
   ]
  },
  {
   "cell_type": "code",
   "execution_count": 55,
   "id": "1ebd373b",
   "metadata": {},
   "outputs": [],
   "source": [
    "conn.commit()"
   ]
  },
  {
   "cell_type": "code",
   "execution_count": 56,
   "id": "c20ea70b",
   "metadata": {},
   "outputs": [
    {
     "data": {
      "text/plain": [
       "3"
      ]
     },
     "execution_count": 56,
     "metadata": {},
     "output_type": "execute_result"
    }
   ],
   "source": [
    "# id = 2인 레코드의 price -> 25000000 변경\n",
    "update_sql = \"\"\"\n",
    "UPDATE items\n",
    "SET price = %s\n",
    "WHERE code = %s\n",
    "\"\"\"\n",
    "price = 2500000\n",
    "code = 'A0002'\n",
    "cur.execute(update_sql, (price, code))"
   ]
  },
  {
   "cell_type": "code",
   "execution_count": 57,
   "id": "43eed918",
   "metadata": {},
   "outputs": [],
   "source": [
    "conn.commit()"
   ]
  },
  {
   "cell_type": "markdown",
   "id": "a9d58fdf",
   "metadata": {},
   "source": [
    "## 데이터 삭제(Delete)"
   ]
  },
  {
   "cell_type": "code",
   "execution_count": 63,
   "id": "c374760f",
   "metadata": {},
   "outputs": [],
   "source": [
    "delete_sql = \"\"\"\n",
    "DELETE FROM items\n",
    "WHERE code = %s\n",
    "\"\"\"\n",
    "cur.execute(delete_sql, 'A0003')\n",
    "conn.commit()"
   ]
  },
  {
   "cell_type": "markdown",
   "id": "1cd7d8a4",
   "metadata": {},
   "source": [
    "# 4. commit, rollback 실행\n",
    "- insert, udate, delete sql을 실행했을 경우는 반드시 실행햐아 DB에 반영됨"
   ]
  },
  {
   "cell_type": "code",
   "execution_count": 69,
   "id": "d3b8dabc",
   "metadata": {},
   "outputs": [],
   "source": [
    "# 데이터 생성하기\n",
    "# code A0005, name 로봇청소기, price 1000000\n",
    "\n",
    "INSERT_SQL = \"\"\"\n",
    "INSERT INTO items(code, name, price) VALUES (%s, %s, %s);\n",
    "\"\"\"\n",
    "cur.execute(INSERT_SQL, ('A0005', '게이밍 로봇청소기', 1000000))\n",
    "conn.commit()"
   ]
  },
  {
   "cell_type": "code",
   "execution_count": null,
   "id": "6c26373a",
   "metadata": {},
   "outputs": [
    {
     "data": {
      "text/plain": [
       "1"
      ]
     },
     "execution_count": 70,
     "metadata": {},
     "output_type": "execute_result"
    }
   ],
   "source": [
    "INSERT_SQL = \"\"\"\n",
    "INSERT INTO items(code, name, price) VALUES (%s, %s, %s);\n",
    "\"\"\"\n",
    "cur.execute(INSERT_SQL, ('A0006', '스타일러', 35000000))\n",
    "\n",
    "\n",
    "# conn.commit()"
   ]
  },
  {
   "cell_type": "code",
   "execution_count": 72,
   "id": "36386b4d",
   "metadata": {},
   "outputs": [],
   "source": [
    "# DB에 가장 마지막에 반영한 이후 시점까지 되돌리기\n",
    "# conn.rollback()"
   ]
  },
  {
   "cell_type": "code",
   "execution_count": 71,
   "id": "09b6757b",
   "metadata": {},
   "outputs": [
    {
     "data": {
      "text/plain": [
       "((1, 'A0001', '게이밍 키보드', 1500000),\n",
       " (2, 'A0002', '에어컨 30평형', 2500000),\n",
       " (11, 'A0005', '게이밍 로봇청소기', 1000000),\n",
       " (14, 'A0005', '게이밍 로봇청소기', 1000000),\n",
       " (15, 'A0006', '스타일러', 35000000))"
      ]
     },
     "execution_count": 71,
     "metadata": {},
     "output_type": "execute_result"
    }
   ],
   "source": [
    "# 조회\n",
    "elect_sql1 = 'select * from items;'\n",
    "cur.execute(select_sql1)\n",
    "rows = cur.fetchall()\n",
    "rows"
   ]
  },
  {
   "cell_type": "markdown",
   "id": "e01b90ca",
   "metadata": {},
   "source": [
    "# 5. DB close()\n",
    "- 데이터 처리를 위해 연결한 DB 연결 자원을 반환함."
   ]
  },
  {
   "cell_type": "markdown",
   "id": "40591843",
   "metadata": {},
   "source": [
    "\n",
    "conn.close()"
   ]
  },
  {
   "cell_type": "markdown",
   "id": "2d3e2017",
   "metadata": {},
   "source": []
  }
 ],
 "metadata": {
  "kernelspec": {
   "display_name": "llm_env",
   "language": "python",
   "name": "python3"
  },
  "language_info": {
   "codemirror_mode": {
    "name": "ipython",
    "version": 3
   },
   "file_extension": ".py",
   "mimetype": "text/x-python",
   "name": "python",
   "nbconvert_exporter": "python",
   "pygments_lexer": "ipython3",
   "version": "3.10.19"
  }
 },
 "nbformat": 4,
 "nbformat_minor": 5
}
